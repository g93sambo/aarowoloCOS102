{
 "cells": [
  {
   "cell_type": "code",
   "execution_count": 7,
   "id": "bb0c4eae-d831-4bc7-bb06-640977563c6f",
   "metadata": {},
   "outputs": [
    {
     "name": "stdin",
     "output_type": "stream",
     "text": [
      "What calculation do you want to make \n",
      " 1.simple interest  2.Compound Interest  3.Annuity Plan 2\n",
      "what is your principal \n",
      " 3000000\n",
      "Type in your rate \n",
      " 6\n",
      "Type in the amount of time you need \n",
      " 5\n",
      "Type in ppy \n",
      " 2\n"
     ]
    },
    {
     "name": "stdout",
     "output_type": "stream",
     "text": [
      "The compound interest for 3000000 at the rate of 6% over 5 years is 5372543.089628564\n"
     ]
    }
   ],
   "source": [
    "def simple_interest():\n",
    "    p = int(input(\"what is your principal \\n\"))\n",
    "    r = int(input(\"Type in your rate \\n\"))\n",
    "    t = int(input(\"Type in the amount of time you need \\n\"))\n",
    "    amount = p * (1 + (r/100) * t)\n",
    "    print(\"The simple interest for \" + str(p) + \" at the rate of \" + str(r) + \"%\" + \" over \" + str(t) + \" years\" + \" is \" + str(amount))\n",
    "def compund_interest():\n",
    "    p = int(input(\"what is your principal \\n\"))\n",
    "    r = int(input(\"Type in your rate \\n\"))\n",
    "    t = int(input(\"Type in the amount of time you need \\n\"))\n",
    "    n = int(input(\"Type in ppy \\n\"))\n",
    "    amount = p * ((1 + (r/100))**(n*t))\n",
    "    print(\"The compound interest for \" + str(p) + \" at the rate of \" + str(r)  + \"%\" + \" over \" + str(t) + \" years\" + \" is \" + str(amount))\n",
    "def annuity_plan():\n",
    "    p = int(input(\"what is your principal \\n\"))\n",
    "    r = int(input(\"Type in your rate \\n\"))\n",
    "    t = int(input(\"Type in the amount of time you need \\n\"))\n",
    "    n = int(input(\"Type in ppy \\n\"))\n",
    "    amount = p * ((1 + (r/100))**(n*t)-1)/(r/n)\n",
    "    print(\"The annuity plan for \" + str(p) + \" at the rate of \" + str(r) + \"%\" + \" over \" + str(t) + \" years\" + \" is \" + str(amount))\n",
    "\n",
    "command = int(input(\"What calculation do you want to make \\n 1.simple interest  2.Compound Interest  3.Annuity Plan\"))\n",
    "\n",
    "match command:\n",
    "    case 1:\n",
    "        simple_interest()\n",
    "    case 2:\n",
    "        compund_interest()\n",
    "    case 3:\n",
    "        annuity_plan()\n"
   ]
  },
  {
   "cell_type": "code",
   "execution_count": null,
   "id": "04c25965-5631-4933-bd55-314c82137143",
   "metadata": {},
   "outputs": [],
   "source": []
  }
 ],
 "metadata": {
  "kernelspec": {
   "display_name": "Python 3 (ipykernel)",
   "language": "python",
   "name": "python3"
  },
  "language_info": {
   "codemirror_mode": {
    "name": "ipython",
    "version": 3
   },
   "file_extension": ".py",
   "mimetype": "text/x-python",
   "name": "python",
   "nbconvert_exporter": "python",
   "pygments_lexer": "ipython3",
   "version": "3.12.7"
  }
 },
 "nbformat": 4,
 "nbformat_minor": 5
}
